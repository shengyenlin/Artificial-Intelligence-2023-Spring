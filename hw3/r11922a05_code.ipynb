{
  "nbformat": 4,
  "nbformat_minor": 0,
  "metadata": {
    "colab": {
      "provenance": []
    },
    "kernelspec": {
      "name": "python3",
      "display_name": "Python 3"
    },
    "language_info": {
      "name": "python"
    },
    "accelerator": "GPU",
    "gpuClass": "standard"
  },
  "cells": [
    {
      "cell_type": "markdown",
      "source": [
        "# Homework 03: Object detection"
      ],
      "metadata": {
        "id": "3d7uXM0ME_9E"
      }
    },
    {
      "cell_type": "markdown",
      "source": [
        "* **REMEMBER TO COPY THIS FILE TO YOUR OWN DRIVE**\n",
        "* You can only modify the non maximal suppression function\n",
        "* What you need to do in this homework\n",
        "  * Understand YOLO and one-stage object detection models.\n",
        "  * Finish the Non-maximum Suppression function.\n",
        "  * Inference on sample images and finish the report.\n",
        "  * [HW3 Report](https://docs.google.com/document/d/1BN-69IoHkGvBuOFyc0jxJvqsGpfmeurGrZCBHWaX_fI/edit)"
      ],
      "metadata": {
        "id": "aHOt3efyFNkY"
      }
    },
    {
      "cell_type": "code",
      "execution_count": 1,
      "metadata": {
        "colab": {
          "base_uri": "https://localhost:8080/"
        },
        "id": "hd0YvkK8zLcQ",
        "outputId": "374437bc-dc4c-48a5-a5e2-40572ac23023"
      },
      "outputs": [
        {
          "output_type": "stream",
          "name": "stdout",
          "text": [
            "Mounted at /content/gdrive\n",
            "/content/gdrive/MyDrive\n"
          ]
        }
      ],
      "source": [
        "from google.colab import drive\n",
        "drive.mount(\"/content/gdrive\")\n",
        "\n",
        "%cd /content/gdrive/MyDrive/"
      ]
    },
    {
      "cell_type": "code",
      "source": [
        "import os\n",
        "if not os.path.isdir(\"AI-hw3\"):\n",
        "    os.makedirs(\"AI-hw3\")\n",
        "\n",
        "%cd AI-hw3"
      ],
      "metadata": {
        "id": "ATSD1w-HzQbD",
        "colab": {
          "base_uri": "https://localhost:8080/"
        },
        "outputId": "a95b8d6c-164b-4817-e6c5-4d8b5786a057"
      },
      "execution_count": 2,
      "outputs": [
        {
          "output_type": "stream",
          "name": "stdout",
          "text": [
            "/content/gdrive/MyDrive/AI-hw3\n"
          ]
        }
      ]
    },
    {
      "cell_type": "markdown",
      "source": [
        "# Download data and checkpoint"
      ],
      "metadata": {
        "id": "cA3bdz8SGlSf"
      }
    },
    {
      "cell_type": "code",
      "source": [
        "# download the pretrain weight of YOLOv7\n",
        "if not os.path.isfile(\"yolov7.pt\"):\n",
        "    !wget https://github.com/WongKinYiu/yolov7/releases/download/v0.1/yolov7.pt\n",
        "\n",
        "# download the inference data\n",
        "if not os.path.isdir(\"data\"):\n",
        "  ! gdown --folder https://drive.google.com/drive/folders/1RhCVmkRD_6sF4gsgFzgUKDUrQlXJB04X?usp=share_link -O data"
      ],
      "metadata": {
        "id": "gT0RrDpPzUKj"
      },
      "execution_count": 3,
      "outputs": []
    },
    {
      "cell_type": "markdown",
      "source": [
        "# Import packages"
      ],
      "metadata": {
        "id": "JStqkR23GhFO"
      }
    },
    {
      "cell_type": "code",
      "source": [
        "import torch\n",
        "import random\n",
        "import cv2\n",
        "import numpy as np\n",
        "import torchvision\n",
        "import torchvision.transforms as transforms\n",
        "from torch.utils.data import Dataset\n",
        "import glob\n",
        "\n",
        "from PIL import Image, ImageDraw, ImageFont"
      ],
      "metadata": {
        "id": "ElxaWxV9zYHl"
      },
      "execution_count": 4,
      "outputs": []
    },
    {
      "cell_type": "markdown",
      "source": [
        "# Utility function you may need (not necessary)"
      ],
      "metadata": {
        "id": "w1FJPDNhGrET"
      }
    },
    {
      "cell_type": "code",
      "source": [
        "def xyxy2xywh(x):\n",
        "    # Convert nx4 boxes from [x1, y1, x2, y2] to [x, y, w, h] where xy1=top-left, xy2=bottom-right\n",
        "    y = x.clone() if isinstance(x, torch.Tensor) else np.copy(x)\n",
        "    y[:, 0] = (x[:, 0] + x[:, 2]) / 2  # x center\n",
        "    y[:, 1] = (x[:, 1] + x[:, 3]) / 2  # y center\n",
        "    y[:, 2] = x[:, 2] - x[:, 0]  # width\n",
        "    y[:, 3] = x[:, 3] - x[:, 1]  # height\n",
        "    return y\n",
        "\n",
        "\n",
        "def xywh2xyxy(x):\n",
        "    # Convert nx4 boxes from [x, y, w, h] to [x1, y1, x2, y2] where xy1=top-left, xy2=bottom-right\n",
        "    y = x.clone() if isinstance(x, torch.Tensor) else np.copy(x)\n",
        "    y[:, 0] = x[:, 0] - x[:, 2] / 2  # top left x\n",
        "    y[:, 1] = x[:, 1] - x[:, 3] / 2  # top left y\n",
        "    y[:, 2] = x[:, 0] + x[:, 2] / 2  # bottom right x\n",
        "    y[:, 3] = x[:, 1] + x[:, 3] / 2  # bottom right y\n",
        "    return y\n",
        "\n",
        "\n",
        "def box_iou(box1, box2):\n",
        "    # https://github.com/pytorch/vision/blob/master/torchvision/ops/boxes.py\n",
        "    \"\"\"\n",
        "    Return intersection-over-union (Jaccard index) of boxes.\n",
        "    Both sets of boxes are expected to be in (x1, y1, x2, y2) format.\n",
        "    Arguments:\n",
        "        box1 (Tensor[N, 4])\n",
        "        box2 (Tensor[M, 4])\n",
        "    Returns:\n",
        "        iou (Tensor[N, M]): the NxM matrix containing the pairwise\n",
        "            IoU values for every element in boxes1 and boxes2\n",
        "    \"\"\"\n",
        "\n",
        "    def box_area(box):\n",
        "        # box = 4xn\n",
        "        return (box[2] - box[0]) * (box[3] - box[1])\n",
        "\n",
        "    area1 = box_area(box1.T)\n",
        "    area2 = box_area(box2.T)\n",
        "\n",
        "    # inter(N,M) = (rb(N,M,2) - lt(N,M,2)).clamp(0).prod(2)\n",
        "    inter = (torch.min(box1[:, None, 2:], box2[:, 2:]) - torch.max(box1[:, None, :2], box2[:, :2])).clamp(0).prod(2)\n",
        "    return inter / (area1[:, None] + area2 - inter)  # iou = inter / (area1 + area2 - inter)"
      ],
      "metadata": {
        "id": "ufIo08nF6Ub8"
      },
      "execution_count": 5,
      "outputs": []
    },
    {
      "cell_type": "markdown",
      "source": [
        "# Non-Maximum Suppression(NMS)"
      ],
      "metadata": {
        "id": "EiInc5jWG0Kq"
      }
    },
    {
      "cell_type": "code",
      "source": [
        "def non_max_suppression(prediction, confidence_threshold=0.4, iou_thres=0.6):\n",
        "    \"\"\"Runs Non-Maximum Suppression (NMS) on inference results\n",
        "    Returns:\n",
        "         list of detections, on (n,6) tensor per image [xyxy, conf, cls]\n",
        "    \"\"\"\n",
        "\n",
        "    # Start of your code\n",
        "\n",
        "    candidates_mask = prediction[..., 4] > confidence_threshold\n",
        "\n",
        "    outputs = list()\n",
        "\n",
        "    for image_number, current_prediction in enumerate(prediction):\n",
        "        \n",
        "        current_prediction = current_prediction[candidates_mask[image_number]]  # confidence\n",
        "\n",
        "        current_prediction[:, 5:] *= current_prediction[:, 4:5]  # conf = obj_conf * cls_conf\n",
        "\n",
        "        boxes = xywh2xyxy(current_prediction[:, :4])\n",
        "\n",
        "        conf, nonzero_confidence_j = current_prediction[:, 5:].max(1, keepdim=True)\n",
        "          \n",
        "        current_prediction = torch.cat((boxes, conf, nonzero_confidence_j.float()), 1)[conf.view(-1) > confidence_threshold]\n",
        "\n",
        "        boxes = current_prediction[:, :4]\n",
        "        scores = current_prediction[:, 4]\n",
        "        sorted_idx = sorted(range(current_prediction.size()[0]), key=lambda i: scores[i], reverse=True)\n",
        " \n",
        "        selected_boxes = [] # per image\n",
        "        while (len(sorted_idx) > 0):\n",
        "          # Pick the bounding box with the highest confidence score\n",
        "          cur_idx = sorted_idx[0]\n",
        "          cur_pred = current_prediction[cur_idx, :]\n",
        "          cur_box = boxes[cur_idx, :]\n",
        "          \n",
        "          selected_boxes.append(cur_pred.tolist())\n",
        "\n",
        "          # Calculate IoU between the current box and the remaining boxes\n",
        "          remaining_boxes = [boxes[i] for i in sorted_idx[1:]]\n",
        "\n",
        "          IoUs = [box_iou(box.unsqueeze(0), cur_box.unsqueeze(0)) for box in remaining_boxes]\n",
        "\n",
        "          # Remove boxes with high overlap (IoU) using the specified threshold\n",
        "          filtered_idx = [i for i, iou in enumerate(IoUs) if iou <= iou_thres]\n",
        "          sorted_idx = [sorted_idx[i+1] for i in filtered_idx]\n",
        "\n",
        "        outputs.append(selected_boxes)\n",
        "    return outputs\n",
        "\n",
        "    # End of your code"
      ],
      "metadata": {
        "id": "9TwSMjkw6u3n"
      },
      "execution_count": 6,
      "outputs": []
    },
    {
      "cell_type": "markdown",
      "source": [
        "# Datasets"
      ],
      "metadata": {
        "id": "SXPwKyAPG-Rh"
      }
    },
    {
      "cell_type": "code",
      "source": [
        "# build our own dataloader\n",
        "class MyDataset(torch.utils.data.Dataset):\n",
        "  def __init__(self, root, transform=None):\n",
        "    self.data = glob.glob(os.path.join(root,'*'))\n",
        "    print(self.data)\n",
        "    self.transform = transform\n",
        "    self.len = len(self.data)\n",
        "\n",
        "  def __len__(self):\n",
        "    return self.len\n",
        "\n",
        "  def __getitem__(self, index):\n",
        "    image = Image.open(self.data[index])\n",
        "\n",
        "    return transform(image), self.data[index]\n",
        "\n",
        "\n",
        "yolo_img_size = 640\n",
        "\n",
        "transform = transforms.Compose([\n",
        "    transforms.Resize((yolo_img_size, yolo_img_size)),\n",
        "    transforms.ToTensor()\n",
        "])"
      ],
      "metadata": {
        "id": "6Ahzqa4uzYBd"
      },
      "execution_count": 7,
      "outputs": []
    },
    {
      "cell_type": "markdown",
      "source": [
        "# Load model and data"
      ],
      "metadata": {
        "id": "cIDOWO5kHprp"
      }
    },
    {
      "cell_type": "code",
      "source": [
        "# download the yolov7 pretrain weight\n",
        "model = torch.hub.load('WongKinYiu/yolov7', 'custom', 'yolov7.pt',\n",
        "                        force_reload=True, trust_repo=True)\n",
        "\n",
        "\n",
        "dataset = MyDataset(\"data\", transform=transform)\n",
        "dataloader = torch.utils.data.DataLoader(dataset, batch_size=8, shuffle=True)"
      ],
      "metadata": {
        "colab": {
          "base_uri": "https://localhost:8080/"
        },
        "id": "y5lwHW3cHjnP",
        "outputId": "81f226ed-2f3a-41e5-ac5d-b1f98a546058"
      },
      "execution_count": 8,
      "outputs": [
        {
          "output_type": "stream",
          "name": "stderr",
          "text": [
            "Downloading: \"https://github.com/WongKinYiu/yolov7/zipball/main\" to /root/.cache/torch/hub/main.zip\n"
          ]
        },
        {
          "output_type": "stream",
          "name": "stdout",
          "text": [
            "\u001b[31m\u001b[1mrequirements:\u001b[0m jedi>=0.16 not found and is required by YOLOR, attempting auto-update...\n",
            "Looking in indexes: https://pypi.org/simple, https://us-python.pkg.dev/colab-wheels/public/simple/\n",
            "Collecting jedi>=0.16\n",
            "  Downloading jedi-0.18.2-py2.py3-none-any.whl (1.6 MB)\n",
            "     ━━━━━━━━━━━━━━━━━━━━━━━━━━━━━━━━━━━━━━━━ 1.6/1.6 MB 49.2 MB/s eta 0:00:00\n",
            "Requirement already satisfied: parso<0.9.0,>=0.8.0 in /usr/local/lib/python3.10/dist-packages (from jedi>=0.16) (0.8.3)\n",
            "Installing collected packages: jedi\n",
            "Successfully installed jedi-0.18.2\n",
            "\n",
            "\u001b[31m\u001b[1mrequirements:\u001b[0m 1 package updated per /root/.cache/torch/hub/WongKinYiu_yolov7_main/requirements.txt\n",
            "\u001b[31m\u001b[1mrequirements:\u001b[0m ⚠️ \u001b[1mRestart runtime or rerun command for updates to take effect\u001b[0m\n",
            "\n",
            "Adding autoShape... \n",
            "['data/1.jpg', 'data/2.jpg', 'data/3.jpg', 'data/4.jpg']\n"
          ]
        }
      ]
    },
    {
      "cell_type": "markdown",
      "source": [
        "# Plot the result"
      ],
      "metadata": {
        "id": "AgBd96RbHKGg"
      }
    },
    {
      "cell_type": "code",
      "source": [
        "class_labels = model.module.names if hasattr(model, 'module') else model.names\n",
        "\n",
        "# set color for class labels\n",
        "colors = [[random.randint(0, 255) for _ in range(3)] for _ in class_labels]\n",
        "\n",
        "\n",
        "# draw the bounding box detect by YOLO on image\n",
        "def plot_bbox(name, pred):\n",
        "  img = Image.open(name)\n",
        "  width, height = img.size\n",
        "  for p in pred:\n",
        "    label = class_labels[int(p[5])]\n",
        "    box = [p[0]/yolo_img_size*width,\n",
        "           p[1]/yolo_img_size*height,\n",
        "           p[2]/yolo_img_size*width,\n",
        "           p[3]/yolo_img_size*height]\n",
        "    draw = ImageDraw.Draw(img)\n",
        "    draw.rectangle(box, outline=tuple(colors[int(p[5])]), width=3)\n",
        "\n",
        "    fontsize = max(round(max(img.size) / 40), 12)\n",
        "    font = ImageFont.load_default()\n",
        "    # font = ImageFont.truetype(\"arial.ttf\", fontsize)\n",
        "    txt_width, txt_height = font.getsize(label)\n",
        "    draw.rectangle([box[0], box[1] - txt_height + 4, box[0] + txt_width, box[1]], fill=tuple(colors[int(p[5])]))\n",
        "    draw.text((box[0], box[1] - txt_height + 1), label, fill=(255, 255, 255), font=font)\n",
        "    del draw\n",
        "\n",
        "  dor_position = name.find(\".\")\n",
        "  save_path = name[:dor_position]+\"_pred\"+name[dor_position:]\n",
        "  \n",
        "  if not os.path.isdir(\"prediction\"):\n",
        "    os.makedirs(\"prediction\")\n",
        "\n",
        "  print(\"the result of image:\", save_path, \"is save to\", save_path.replace(\"data\", \"prediction\"))\n",
        "  img.save(save_path.replace(\"data\", \"prediction\"))"
      ],
      "metadata": {
        "id": "nSNEZWa8zXtK"
      },
      "execution_count": 9,
      "outputs": []
    },
    {
      "cell_type": "markdown",
      "source": [
        "# Inference"
      ],
      "metadata": {
        "id": "Y4peyoUnH4hK"
      }
    },
    {
      "cell_type": "code",
      "source": [
        "# Set device to GPU if available\n",
        "device = torch.device(\"cuda\" if torch.cuda.is_available() else \"cpu\")\n",
        "\n",
        "# Load the YOLO model\n",
        "model.to(device)\n",
        "\n",
        "# Inference\n",
        "model.eval()\n",
        "with torch.no_grad():\n",
        "  for batch_idx, (images, filename) in enumerate(dataloader):\n",
        "    images = images.to(device)\n",
        "    outputs = model(images)[0]\n",
        "    \n",
        "    # Process the outputs\n",
        "    preds = non_max_suppression(outputs)\n",
        "\n",
        "    for idx, pred in enumerate(preds):\n",
        "      plot_bbox(filename[idx], pred)"
      ],
      "metadata": {
        "colab": {
          "base_uri": "https://localhost:8080/"
        },
        "id": "2hh-oXIozoyI",
        "outputId": "f59781d3-8aa9-4d60-a1ed-5144addf0a2a"
      },
      "execution_count": 10,
      "outputs": [
        {
          "output_type": "stream",
          "name": "stderr",
          "text": [
            "/usr/local/lib/python3.10/dist-packages/torch/functional.py:504: UserWarning: torch.meshgrid: in an upcoming release, it will be required to pass the indexing argument. (Triggered internally at ../aten/src/ATen/native/TensorShape.cpp:3483.)\n",
            "  return _VF.meshgrid(tensors, **kwargs)  # type: ignore[attr-defined]\n"
          ]
        },
        {
          "output_type": "stream",
          "name": "stdout",
          "text": [
            "the result of image: data/3_pred.jpg is save to prediction/3_pred.jpg\n",
            "the result of image: data/4_pred.jpg is save to prediction/4_pred.jpg\n",
            "the result of image: data/1_pred.jpg is save to prediction/1_pred.jpg\n",
            "the result of image: data/2_pred.jpg is save to prediction/2_pred.jpg\n"
          ]
        }
      ]
    }
  ]
}